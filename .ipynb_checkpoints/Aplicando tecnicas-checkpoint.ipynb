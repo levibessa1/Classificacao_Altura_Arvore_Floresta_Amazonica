{
 "cells": [
  {
   "cell_type": "markdown",
   "metadata": {},
   "source": []
  },
  {
   "cell_type": "code",
   "execution_count": 25,
   "metadata": {},
   "outputs": [],
   "source": [
    "import os\n",
    "import pandas as pd\n",
    "import numpy as np"
   ]
  },
  {
   "cell_type": "code",
   "execution_count": 26,
   "metadata": {},
   "outputs": [],
   "source": [
    "dataframe = pd.read_csv(\"0_DataFrame_Fatiado.csv\")\n",
    "## dataframe = dataframe.head(50000)\n",
    "del dataframe['Unnamed: 0']"
   ]
  },
  {
   "cell_type": "markdown",
   "metadata": {},
   "source": [
    "## Separando dados"
   ]
  },
  {
   "cell_type": "code",
   "execution_count": 27,
   "metadata": {},
   "outputs": [],
   "source": [
    "data_classification = dataframe['classification'].values"
   ]
  },
  {
   "cell_type": "code",
   "execution_count": 28,
   "metadata": {},
   "outputs": [],
   "source": [
    "data_instacias = dataframe.drop('classification',axis=1)"
   ]
  },
  {
   "cell_type": "code",
   "execution_count": 29,
   "metadata": {},
   "outputs": [],
   "source": [
    "from imblearn.over_sampling import RandomOverSampler\n",
    "ros = RandomOverSampler(random_state=0)\n",
    "X_resampled, y_resampled = ros.fit_resample(data_instacias, data_classification)"
   ]
  },
  {
   "cell_type": "code",
   "execution_count": 30,
   "metadata": {},
   "outputs": [],
   "source": [
    "from sklearn.model_selection import train_test_split \n",
    "x_train, x_test, y_train, y_test = train_test_split(X_resampled, y_resampled,test_size=0.40)"
   ]
  },
  {
   "cell_type": "markdown",
   "metadata": {},
   "source": [
    "##  Armazenando total de 2,3,4,5"
   ]
  },
  {
   "cell_type": "code",
   "execution_count": 31,
   "metadata": {},
   "outputs": [],
   "source": [
    "totalClasse2 = 0\n",
    "totalClasse3 = 0\n",
    "totalClasse4 = 0\n",
    "totalClasse5 = 0\n",
    "# totalClasse6 = 0\n",
    "for x in range(len(y_test)):\n",
    "    if(y_test[x]==2):\n",
    "        totalClasse2+=1\n",
    "    elif(y_test[x]==3):\n",
    "        totalClasse3+=1\n",
    "    elif(y_test[x]==4):\n",
    "        totalClasse4+=1\n",
    "    elif(y_test[x]==5):\n",
    "        totalClasse5+=1\n",
    "#     elif(y_test[x]==6):\n",
    "#         totalClasse6+=1\n"
   ]
  },
  {
   "cell_type": "markdown",
   "metadata": {},
   "source": [
    "##  Aplicando K-Means"
   ]
  },
  {
   "cell_type": "code",
   "execution_count": 32,
   "metadata": {},
   "outputs": [],
   "source": [
    "from sklearn.cluster import KMeans"
   ]
  },
  {
   "cell_type": "code",
   "execution_count": 33,
   "metadata": {},
   "outputs": [],
   "source": [
    "c=1200"
   ]
  },
  {
   "cell_type": "code",
   "execution_count": 34,
   "metadata": {},
   "outputs": [],
   "source": [
    " kmeans = KMeans(n_clusters = c, init = 'random')"
   ]
  },
  {
   "cell_type": "code",
   "execution_count": null,
   "metadata": {},
   "outputs": [],
   "source": [
    "kmeans.fit(x_train)"
   ]
  },
  {
   "cell_type": "code",
   "execution_count": null,
   "metadata": {},
   "outputs": [],
   "source": [
    "def coletarDados(dados,grupo,classes_, labelK):\n",
    "    for x in range (len(labelK)):\n",
    "        if(labelK[x]==grupo):\n",
    "            if(classes_[x]==1):\n",
    "                dados[\"qtd1\"]+=1\n",
    "            elif(classes_[x]==2):\n",
    "                dados[\"qtd2\"]+=1\n",
    "            elif(classes_[x]==3):\n",
    "                dados[\"qtd3\"]+=1\n",
    "            elif(classes_[x]==4):\n",
    "                dados[\"qtd4\"]+=1\n",
    "            elif(classes_[x]==5):\n",
    "                dados[\"qtd5\"]+=1\n",
    "            elif(classes_[x]==7):\n",
    "                dados[\"qtd7\"]+=1\n",
    "    return dados"
   ]
  },
  {
   "cell_type": "code",
   "execution_count": null,
   "metadata": {},
   "outputs": [],
   "source": [
    "def calcularIncidencia(grupo,classes_, labelK):\n",
    "    dados = {\"qtd1\":1,\"qtd2\":1,\"qtd3\":1,\"qtd4\":1,\n",
    "             \"qtd5\":1,\"qtd7\":1,\"percente1\":0,\"percente2\":0,\n",
    "             \"percente3\":0,\"percente4\":0,\"percente5\":0,\"percente7\":0}\n",
    "    dados=coletarDados(dados,grupo,classes_, labelK)\n",
    "    total = dados[\"qtd1\"]+dados[\"qtd2\"]+dados[\"qtd3\"]+dados[\"qtd4\"]+dados[\"qtd5\"]+dados[\"qtd7\"]\n",
    "    dados[\"percente1\"] = percente(dados[\"qtd1\"], total)\n",
    "    dados[\"percente2\"] = percente(dados[\"qtd2\"], total)\n",
    "    dados[\"percente3\"] = percente(dados[\"qtd3\"], total)\n",
    "    dados[\"percente4\"] = percente(dados[\"qtd4\"], total)\n",
    "    dados[\"percente5\"] = percente(dados[\"qtd5\"], total)\n",
    "    dados[\"percente5\"] = percente(dados[\"qtd7\"], total)\n",
    "    return dados"
   ]
  },
  {
   "cell_type": "code",
   "execution_count": null,
   "metadata": {},
   "outputs": [],
   "source": [
    "def percente(valor, total):\n",
    "    if total==0 :\n",
    "        return 0\n",
    "    return (valor*100)/total"
   ]
  },
  {
   "cell_type": "code",
   "execution_count": null,
   "metadata": {},
   "outputs": [],
   "source": [
    "gruposGeralK=[]\n",
    "for x in range(c):\n",
    "    gruposGeralK.insert(x,calcularIncidencia(x,y_train,kmeans.labels_))"
   ]
  },
  {
   "cell_type": "code",
   "execution_count": null,
   "metadata": {},
   "outputs": [],
   "source": [
    "grupos2K=[]\n",
    "for x in range(len(gruposGeralK)):\n",
    "    if(gruposGeralK[x]['percente2']>=60):\n",
    "        grupos2K.append(x)\n",
    "grupos2K"
   ]
  },
  {
   "cell_type": "code",
   "execution_count": null,
   "metadata": {},
   "outputs": [],
   "source": [
    "grupos3K=[]\n",
    "for x in range(len(gruposGeralK)):\n",
    "    if(gruposGeralK[x]['percente3']>=60):\n",
    "        grupos3K.append(x)\n",
    "grupos3K"
   ]
  },
  {
   "cell_type": "code",
   "execution_count": null,
   "metadata": {},
   "outputs": [],
   "source": [
    "grupos4K=[]\n",
    "for x in range(len(gruposGeralK)):\n",
    "    if(gruposGeralK[x]['percente3']>=60):\n",
    "        grupos4K.append(x)\n",
    "grupos4K"
   ]
  },
  {
   "cell_type": "code",
   "execution_count": null,
   "metadata": {},
   "outputs": [],
   "source": [
    "grupos5K=[]\n",
    "for x in range(len(gruposGeralK)):\n",
    "    if(gruposGeralK[x]['percente3']>=60):\n",
    "        grupos5K.append(x)\n",
    "grupos5K"
   ]
  },
  {
   "cell_type": "markdown",
   "metadata": {},
   "source": [
    " ## Testando treino K"
   ]
  },
  {
   "cell_type": "code",
   "execution_count": null,
   "metadata": {},
   "outputs": [],
   "source": [
    " testeK=kmeans.predict(x_test)"
   ]
  },
  {
   "cell_type": "code",
   "execution_count": null,
   "metadata": {},
   "outputs": [],
   "source": [
    "totalAcertos2K = 0;\n",
    "\n",
    "for x in range(c):\n",
    "    valor =calcularIncidencia(x,y_test,testeK)\n",
    "    if grupos2K.count(x)>0 :\n",
    "        totalAcertos2K += valor['qtd2']"
   ]
  },
  {
   "cell_type": "code",
   "execution_count": null,
   "metadata": {},
   "outputs": [],
   "source": [
    "print(\"total de acertos2:\",totalAcertos2K)\n",
    "print(\"total de classe 2:\",totalClasse2)\n",
    "print(\"porcentagem de classificação:\",(totalAcertos2K*100)/totalClasse2)"
   ]
  },
  {
   "cell_type": "code",
   "execution_count": null,
   "metadata": {},
   "outputs": [],
   "source": [
    "totalAcertos3K = 0;\n",
    "\n",
    "for x in range(c):\n",
    "    valor =calcularIncidencia(x,y_test,testeK)\n",
    "    if grupos3K.count(x)>0 :\n",
    "        totalAcertos3K += valor['qtd3']"
   ]
  },
  {
   "cell_type": "code",
   "execution_count": null,
   "metadata": {},
   "outputs": [],
   "source": [
    "print(\"total de acertos1:\",totalAcertos3K)\n",
    "print(\"total de classe 1:\",totalClasse3)\n",
    "print(\"porcentagem de classificação:\",(totalAcertos3K*100)/totalClasse3)"
   ]
  },
  {
   "cell_type": "code",
   "execution_count": null,
   "metadata": {},
   "outputs": [],
   "source": [
    "totalAcertos4K = 0;\n",
    "\n",
    "for x in range(c):\n",
    "    valor =calcularIncidencia(x,y_test,testeK)\n",
    "    if grupos4K.count(x)>0 :\n",
    "        totalAcertos4K += valor['qtd4']"
   ]
  },
  {
   "cell_type": "code",
   "execution_count": null,
   "metadata": {},
   "outputs": [],
   "source": [
    "print(\"total de acertos1:\",totalAcertos4K)\n",
    "print(\"total de classe 1:\",totalClasse4)\n",
    "print(\"porcentagem de classificação:\",(totalAcertos4K*100)/totalClasse4)"
   ]
  },
  {
   "cell_type": "code",
   "execution_count": null,
   "metadata": {},
   "outputs": [],
   "source": [
    "totalAcertos5K = 0;\n",
    "\n",
    "for x in range(c):\n",
    "    valor =calcularIncidencia(x,y_test,testeK)\n",
    "    if grupos5K.count(x)>0 :\n",
    "        totalAcertos5K += valor['qtd5']"
   ]
  },
  {
   "cell_type": "code",
   "execution_count": null,
   "metadata": {},
   "outputs": [],
   "source": [
    "print(\"total de acertos1:\",totalAcertos5K)\n",
    "print(\"total de classe 1:\",totalClasse5)\n",
    "print(\"porcentagem de classificação:\",(totalAcertos5K*100)/totalClasse5)"
   ]
  }
 ],
 "metadata": {
  "kernelspec": {
   "display_name": "Python 3",
   "language": "python",
   "name": "python3"
  },
  "language_info": {
   "codemirror_mode": {
    "name": "ipython",
    "version": 3
   },
   "file_extension": ".py",
   "mimetype": "text/x-python",
   "name": "python",
   "nbconvert_exporter": "python",
   "pygments_lexer": "ipython3",
   "version": "3.7.2"
  }
 },
 "nbformat": 4,
 "nbformat_minor": 2
}
