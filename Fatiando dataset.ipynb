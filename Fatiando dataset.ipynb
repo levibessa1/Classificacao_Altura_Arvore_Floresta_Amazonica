{
 "cells": [
  {
   "cell_type": "markdown",
   "metadata": {},
   "source": []
  },
  {
   "cell_type": "code",
   "execution_count": 2,
   "metadata": {},
   "outputs": [],
   "source": [
    "import os\n",
    "import pandas as pd\n",
    "import numpy as np"
   ]
  },
  {
   "cell_type": "code",
   "execution_count": 3,
   "metadata": {},
   "outputs": [],
   "source": [
    "dataframe = pd.read_csv(\"0_DataFrame.csv\")\n",
    "## dataframe = dataframe.head(50000)\n",
    "del dataframe['Unnamed: 0']"
   ]
  },
  {
   "cell_type": "code",
   "execution_count": 4,
   "metadata": {},
   "outputs": [
    {
     "data": {
      "text/plain": [
       "4    7517623\n",
       "5    3577136\n",
       "3     659371\n",
       "2      69569\n",
       "Name: classification, dtype: int64"
      ]
     },
     "execution_count": 4,
     "metadata": {},
     "output_type": "execute_result"
    }
   ],
   "source": [
    "dataframe['classification'].value_counts()"
   ]
  },
  {
   "cell_type": "code",
   "execution_count": 5,
   "metadata": {},
   "outputs": [],
   "source": [
    "dataframe_2 = dataframe[dataframe.classification ==2].take(np.random.permutation(len(dataframe[dataframe.classification == 2]))[:30000])\n",
    "dataframe_3 = dataframe[dataframe.classification ==3].take(np.random.permutation(len(dataframe[dataframe.classification == 3]))[:30000])\n",
    "dataframe_4 = dataframe[dataframe.classification ==4].take(np.random.permutation(len(dataframe[dataframe.classification == 4]))[:30000])\n",
    "dataframe_5 = dataframe[dataframe.classification ==5].take(np.random.permutation(len(dataframe[dataframe.classification == 5]))[:30000])\n",
    "dataframe_r = pd.concat([dataframe_2, dataframe_3, dataframe_4, dataframe_5]).reset_index(drop=True)"
   ]
  },
  {
   "cell_type": "code",
   "execution_count": 6,
   "metadata": {},
   "outputs": [
    {
     "data": {
      "text/plain": [
       "5    30000\n",
       "4    30000\n",
       "3    30000\n",
       "2    30000\n",
       "Name: classification, dtype: int64"
      ]
     },
     "execution_count": 6,
     "metadata": {},
     "output_type": "execute_result"
    }
   ],
   "source": [
    "dataframe_r['classification'].value_counts()"
   ]
  },
  {
   "cell_type": "code",
   "execution_count": 7,
   "metadata": {},
   "outputs": [],
   "source": [
    "dataframe_r.to_csv('0_DataFrame_Fatiado.csv')"
   ]
  },
  {
   "cell_type": "code",
   "execution_count": null,
   "metadata": {},
   "outputs": [],
   "source": []
  }
 ],
 "metadata": {
  "kernelspec": {
   "display_name": "Python 3",
   "language": "python",
   "name": "python3"
  },
  "language_info": {
   "codemirror_mode": {
    "name": "ipython",
    "version": 3
   },
   "file_extension": ".py",
   "mimetype": "text/x-python",
   "name": "python",
   "nbconvert_exporter": "python",
   "pygments_lexer": "ipython3",
   "version": "3.7.2"
  }
 },
 "nbformat": 4,
 "nbformat_minor": 2
}
